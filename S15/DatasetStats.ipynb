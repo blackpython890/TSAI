{
  "nbformat": 4,
  "nbformat_minor": 0,
  "metadata": {
    "colab": {
      "name": "DatasetStats.ipynb",
      "provenance": [],
      "authorship_tag": "ABX9TyOqDIME60stSGO2I1ChNI34",
      "include_colab_link": true
    },
    "kernelspec": {
      "name": "python3",
      "display_name": "Python 3"
    }
  },
  "cells": [
    {
      "cell_type": "markdown",
      "metadata": {
        "id": "view-in-github",
        "colab_type": "text"
      },
      "source": [
        "<a href=\"https://colab.research.google.com/github/jagatabhay/TSAI/blob/master/S15/DatasetStats.ipynb\" target=\"_parent\"><img src=\"https://colab.research.google.com/assets/colab-badge.svg\" alt=\"Open In Colab\"/></a>"
      ]
    },
    {
      "cell_type": "code",
      "metadata": {
        "id": "cpctN1o2G2t4",
        "colab_type": "code",
        "colab": {}
      },
      "source": [
        "from google.colab import drive\n",
        "drive.mount('/content/gdrive')"
      ],
      "execution_count": null,
      "outputs": []
    },
    {
      "cell_type": "code",
      "metadata": {
        "id": "BXQIE25hIxe1",
        "colab_type": "code",
        "colab": {}
      },
      "source": [
        "!ls"
      ],
      "execution_count": null,
      "outputs": []
    },
    {
      "cell_type": "code",
      "metadata": {
        "id": "7I-w0LPWHmWo",
        "colab_type": "code",
        "colab": {}
      },
      "source": [
        "import torch\n",
        "import torchvision\n",
        "\n",
        "dataset = torchvision.datasets.ImageFolder('gdrive/My Drive/imagedatasets/bg',\n",
        "                                           transform = torchvision.transforms.ToTensor() \n",
        "                                           )\n",
        "\n",
        "dataloader = torch.utils.data.DataLoader(dataset ,\n",
        "                                          batch_size = 1,\n",
        "                                          shuffle = True,\n",
        "                                          num_workers = 1 , \n",
        "                                          pin_memory = True \n",
        "                                          )"
      ],
      "execution_count": null,
      "outputs": []
    },
    {
      "cell_type": "code",
      "metadata": {
        "id": "pjUS5gt5PM4v",
        "colab_type": "code",
        "colab": {}
      },
      "source": [
        "images , _ = iter(dataloader).next()"
      ],
      "execution_count": null,
      "outputs": []
    },
    {
      "cell_type": "code",
      "metadata": {
        "id": "jR-wK2yHM_zT",
        "colab_type": "code",
        "colab": {}
      },
      "source": [
        "def get_mean_and_std(image):\n",
        "  mean = torch.zeros(3)\n",
        "  std = torch.zeros(3)\n",
        "  for i in range(3):\n",
        "      mean[i] += image[:, i, :, :].mean()\n",
        "      std[i] += image[:,i, :, :].std()\n",
        "  return mean , std "
      ],
      "execution_count": null,
      "outputs": []
    },
    {
      "cell_type": "code",
      "metadata": {
        "id": "Rjbwqm-qRiC8",
        "colab_type": "code",
        "colab": {}
      },
      "source": [
        "mean , std = get_mean_and_std(images)\n",
        "print('Mean : ',mean)\n",
        "print('Std : ',std)"
      ],
      "execution_count": null,
      "outputs": []
    }
  ]
}