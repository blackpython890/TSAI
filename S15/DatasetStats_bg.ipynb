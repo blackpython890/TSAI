{
  "nbformat": 4,
  "nbformat_minor": 0,
  "metadata": {
    "colab": {
      "name": "DatasetStats.ipynb",
      "provenance": [],
      "collapsed_sections": [],
      "authorship_tag": "ABX9TyPQ7UVnko2yXRghxJAaRjKV",
      "include_colab_link": true
    },
    "kernelspec": {
      "name": "python3",
      "display_name": "Python 3"
    }
  },
  "cells": [
    {
      "cell_type": "markdown",
      "metadata": {
        "id": "view-in-github",
        "colab_type": "text"
      },
      "source": [
        "<a href=\"https://colab.research.google.com/github/jagatabhay/TSAI/blob/master/S15/DatasetStats_bg.ipynb\" target=\"_parent\"><img src=\"https://colab.research.google.com/assets/colab-badge.svg\" alt=\"Open In Colab\"/></a>"
      ]
    },
    {
      "cell_type": "code",
      "metadata": {
        "id": "cpctN1o2G2t4",
        "colab_type": "code",
        "colab": {
          "base_uri": "https://localhost:8080/",
          "height": 129
        },
        "outputId": "7c2be3cd-2155-4a84-9021-f744fc93a114"
      },
      "source": [
        "from google.colab import drive\n",
        "drive.mount('/content/gdrive')"
      ],
      "execution_count": 1,
      "outputs": [
        {
          "output_type": "stream",
          "text": [
            "Go to this URL in a browser: https://accounts.google.com/o/oauth2/auth?client_id=947318989803-6bn6qk8qdgf4n4g3pfee6491hc0brc4i.apps.googleusercontent.com&redirect_uri=urn%3aietf%3awg%3aoauth%3a2.0%3aoob&response_type=code&scope=email%20https%3a%2f%2fwww.googleapis.com%2fauth%2fdocs.test%20https%3a%2f%2fwww.googleapis.com%2fauth%2fdrive%20https%3a%2f%2fwww.googleapis.com%2fauth%2fdrive.photos.readonly%20https%3a%2f%2fwww.googleapis.com%2fauth%2fpeopleapi.readonly\n",
            "\n",
            "Enter your authorization code:\n",
            "··········\n",
            "Mounted at /content/gdrive\n"
          ],
          "name": "stdout"
        }
      ]
    },
    {
      "cell_type": "code",
      "metadata": {
        "id": "BXQIE25hIxe1",
        "colab_type": "code",
        "colab": {
          "base_uri": "https://localhost:8080/",
          "height": 35
        },
        "outputId": "0bd4fc47-ac09-4013-905c-efc5c8dbfa7b"
      },
      "source": [
        "!ls"
      ],
      "execution_count": 2,
      "outputs": [
        {
          "output_type": "stream",
          "text": [
            "gdrive\tsample_data\n"
          ],
          "name": "stdout"
        }
      ]
    },
    {
      "cell_type": "code",
      "metadata": {
        "id": "7I-w0LPWHmWo",
        "colab_type": "code",
        "colab": {}
      },
      "source": [
        "import torch\n",
        "import torchvision\n",
        "\n",
        "dataset = torchvision.datasets.ImageFolder('gdrive/My Drive/root',\n",
        "                                           transform = torchvision.transforms.ToTensor() \n",
        "                                           )\n",
        "\n",
        "dataloader = torch.utils.data.DataLoader(dataset ,\n",
        "                                         batch_size = 1,\n",
        "                                         shuffle = True,\n",
        "                                         num_workers = 1 , \n",
        "                                         pin_memory = True \n",
        "                                        )"
      ],
      "execution_count": 3,
      "outputs": []
    },
    {
      "cell_type": "code",
      "metadata": {
        "id": "pjUS5gt5PM4v",
        "colab_type": "code",
        "colab": {}
      },
      "source": [
        "images , _ = iter(dataloader).next()"
      ],
      "execution_count": 4,
      "outputs": []
    },
    {
      "cell_type": "code",
      "metadata": {
        "id": "jR-wK2yHM_zT",
        "colab_type": "code",
        "colab": {}
      },
      "source": [
        "def get_mean_and_std(image):\n",
        "  mean = torch.zeros(3)\n",
        "  std = torch.zeros(3)\n",
        "  for i in range(3):\n",
        "      mean[i] += image[:, i, :, :].mean()\n",
        "      std[i] += image[:,i, :, :].std()\n",
        "  return mean , std "
      ],
      "execution_count": 5,
      "outputs": []
    },
    {
      "cell_type": "code",
      "metadata": {
        "id": "Rjbwqm-qRiC8",
        "colab_type": "code",
        "colab": {
          "base_uri": "https://localhost:8080/",
          "height": 54
        },
        "outputId": "a014c52c-a9c7-4e7d-a891-f68410821e1b"
      },
      "source": [
        "mean , std = get_mean_and_std(images)\n",
        "print('Mean : ',mean)\n",
        "print('Std : ',std)"
      ],
      "execution_count": 6,
      "outputs": [
        {
          "output_type": "stream",
          "text": [
            "Mean :  tensor([0.3961, 0.4076, 0.3628])\n",
            "Std :  tensor([0.2898, 0.2846, 0.2999])\n"
          ],
          "name": "stdout"
        }
      ]
    }
  ]
}