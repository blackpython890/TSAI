{
  "nbformat": 4,
  "nbformat_minor": 0,
  "metadata": {
    "colab": {
      "name": "DatasetStats.ipynb",
      "provenance": [],
      "collapsed_sections": [],
      "authorship_tag": "ABX9TyPQ7UVnko2yXRghxJAaRjKV",
      "include_colab_link": true
    },
    "kernelspec": {
      "name": "python3",
      "display_name": "Python 3"
    }
  },
  "cells": [
    {
      "cell_type": "markdown",
      "metadata": {
        "id": "view-in-github",
        "colab_type": "text"
      },
      "source": [
        "<a href=\"https://colab.research.google.com/github/jagatabhay/TSAI/blob/master/S15/DatasetStats_fgbgmask.ipynb\" target=\"_parent\"><img src=\"https://colab.research.google.com/assets/colab-badge.svg\" alt=\"Open In Colab\"/></a>"
      ]
    },
    {
      "cell_type": "code",
      "metadata": {
        "id": "cpctN1o2G2t4",
        "colab_type": "code",
        "colab": {
          "base_uri": "https://localhost:8080/",
          "height": 129
        },
        "outputId": "412789a3-e5d6-440e-e7d5-e782b1edc507"
      },
      "source": [
        "from google.colab import drive\n",
        "drive.mount('/content/gdrive')"
      ],
      "execution_count": 1,
      "outputs": [
        {
          "output_type": "stream",
          "text": [
            "Go to this URL in a browser: https://accounts.google.com/o/oauth2/auth?client_id=947318989803-6bn6qk8qdgf4n4g3pfee6491hc0brc4i.apps.googleusercontent.com&redirect_uri=urn%3aietf%3awg%3aoauth%3a2.0%3aoob&response_type=code&scope=email%20https%3a%2f%2fwww.googleapis.com%2fauth%2fdocs.test%20https%3a%2f%2fwww.googleapis.com%2fauth%2fdrive%20https%3a%2f%2fwww.googleapis.com%2fauth%2fdrive.photos.readonly%20https%3a%2f%2fwww.googleapis.com%2fauth%2fpeopleapi.readonly\n",
            "\n",
            "Enter your authorization code:\n",
            "··········\n",
            "Mounted at /content/gdrive\n"
          ],
          "name": "stdout"
        }
      ]
    },
    {
      "cell_type": "code",
      "metadata": {
        "id": "BXQIE25hIxe1",
        "colab_type": "code",
        "colab": {
          "base_uri": "https://localhost:8080/",
          "height": 35
        },
        "outputId": "b1053ee4-a5ea-43c5-a4e5-a114237fa60c"
      },
      "source": [
        "!ls"
      ],
      "execution_count": 2,
      "outputs": [
        {
          "output_type": "stream",
          "text": [
            "gdrive\tsample_data\n"
          ],
          "name": "stdout"
        }
      ]
    },
    {
      "cell_type": "code",
      "metadata": {
        "id": "7I-w0LPWHmWo",
        "colab_type": "code",
        "colab": {}
      },
      "source": [
        "import torch\n",
        "import torchvision\n",
        "\n",
        "dataset = torchvision.datasets.ImageFolder('gdrive/My Drive/root',\n",
        "                                           transform = torchvision.transforms.ToTensor() \n",
        "                                           )\n",
        "\n",
        "dataloader = torch.utils.data.DataLoader(dataset ,\n",
        "                                         batch_size = 1,\n",
        "                                         shuffle = True,\n",
        "                                         num_workers = 1 , \n",
        "                                         pin_memory = True \n",
        "                                        )"
      ],
      "execution_count": 3,
      "outputs": []
    },
    {
      "cell_type": "code",
      "metadata": {
        "id": "pjUS5gt5PM4v",
        "colab_type": "code",
        "colab": {}
      },
      "source": [
        "images , _ = iter(dataloader).next()"
      ],
      "execution_count": 4,
      "outputs": []
    },
    {
      "cell_type": "code",
      "metadata": {
        "id": "jR-wK2yHM_zT",
        "colab_type": "code",
        "colab": {}
      },
      "source": [
        "def get_mean_and_std(image):\n",
        "  mean = torch.zeros(3)\n",
        "  std = torch.zeros(3)\n",
        "  for i in range(3):\n",
        "      mean[i] += image[:, i, :, :].mean()\n",
        "      std[i] += image[:,i, :, :].std()\n",
        "  return mean , std "
      ],
      "execution_count": 5,
      "outputs": []
    },
    {
      "cell_type": "code",
      "metadata": {
        "id": "Rjbwqm-qRiC8",
        "colab_type": "code",
        "colab": {
          "base_uri": "https://localhost:8080/",
          "height": 54
        },
        "outputId": "9fce6b87-dde9-4484-d525-fca66a91a461"
      },
      "source": [
        "mean , std = get_mean_and_std(images)\n",
        "print('Mean : ',mean)\n",
        "print('Std : ',std)"
      ],
      "execution_count": 6,
      "outputs": [
        {
          "output_type": "stream",
          "text": [
            "Mean :  tensor([0.1712, 0.1709, 0.1711])\n",
            "Std :  tensor([0.3455, 0.3452, 0.3456])\n"
          ],
          "name": "stdout"
        }
      ]
    }
  ]
}